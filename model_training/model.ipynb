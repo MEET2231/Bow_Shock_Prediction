{
 "cells": [
  {
   "cell_type": "code",
   "execution_count": 1,
   "id": "9170dcab",
   "metadata": {},
   "outputs": [],
   "source": [
    "import cdflib\n",
    "\n",
    "cdf_file = cdflib.CDF(\"D:\\mms\\OLSHEVSKY\\mmslearning\\labels_human\\labels_fpi_fast_dis_dist_201711.cdf\")\n",
    "# print(cdf_file.cdf_info())  \n",
    "\n",
    "var_info_epoch = cdf_file.varinq('epoch_mms1_fpi_fast_dis_dist_20171108040000')        # overview of file\n"
   ]
  },
  {
   "cell_type": "code",
   "execution_count": null,
   "id": "9ef6fdf9",
   "metadata": {},
   "outputs": [],
   "source": [
    "import cdflib\n",
    "import numpy as np\n",
    "\n",
    "label_cdf = cdflib.CDF(r\"D:\\mms\\OLSHEVSKY\\mmslearning\\labels_human\\labels_fpi_fast_dis_dist_201711.cdf\")\n",
    "\n",
    "\n",
    "time_id = \"20171109180000\"\n",
    "\n",
    "labels = label_cdf.varget(f\"label_mms1_fpi_fast_dis_dist_{time_id}\").squeeze()\n",
    "epochs = label_cdf.varget(f\"epoch_mms1_fpi_fast_dis_dist_{time_id}\").squeeze()\n",
    "\n",
    "# keep only valid labels (>=0)\n",
    "valid_idx = labels >= 0\n",
    "labels = labels[valid_idx]\n",
    "epochs = epochs[valid_idx]\n"
   ]
  },
  {
   "cell_type": "code",
   "execution_count": 3,
   "id": "6d392874",
   "metadata": {},
   "outputs": [],
   "source": [
    "raw_cdf_path = rf\"D:\\mms\\Data\\mms\\mms1\\fpi\\fast\\l2\\dis-dist\\2017\\11\\mms1_fpi_fast_l2_dis-dist_{time_id}_v3.4.0.cdf\"\n",
    "raw_cdf = cdflib.CDF(raw_cdf_path)\n",
    "\n",
    "dist = raw_cdf.varget(\"mms1_dis_dist_fast\")  # shape (N,32,16,32)\n",
    "dist_epochs = raw_cdf.varget(\"Epoch\")\n"
   ]
  },
  {
   "cell_type": "code",
   "execution_count": 4,
   "id": "4a7349ce",
   "metadata": {},
   "outputs": [],
   "source": [
    "def match_epochs(raw_data, raw_epochs, label_epochs, labels):\n",
    "    X, y = [], []\n",
    "    for le, lab in zip(label_epochs, labels):\n",
    "        idx = np.argmin(np.abs(raw_epochs - le))\n",
    "        X.append(raw_data[idx])\n",
    "        y.append(lab)\n",
    "    return np.array(X), np.array(y)\n",
    "\n",
    "X_raw, y_raw = match_epochs(dist, dist_epochs, epochs, labels)\n"
   ]
  },
  {
   "cell_type": "code",
   "execution_count": 5,
   "id": "4386011a",
   "metadata": {},
   "outputs": [],
   "source": [
    "def preprocess_distributions(X):\n",
    "    X = X.copy()\n",
    "    X[X == 0] = np.min(X[X > 0])\n",
    "    X = np.log10(X)\n",
    "    X = (X - X.min(axis=(1,2,3), keepdims=True)) / \\\n",
    "        (X.max(axis=(1,2,3), keepdims=True) - X.min(axis=(1,2,3), keepdims=True))\n",
    "    return X[..., np.newaxis]\n",
    "\n",
    "X = preprocess_distributions(X_raw)\n"
   ]
  },
  {
   "cell_type": "code",
   "execution_count": 6,
   "id": "ab55fd76",
   "metadata": {},
   "outputs": [],
   "source": [
    "from tensorflow.keras.utils import to_categorical\n",
    "y_cat = to_categorical(y_raw, num_classes=4)  # {0:SW, 1:IF, 2:MSH, 3:MSP}\n"
   ]
  },
  {
   "cell_type": "code",
   "execution_count": 7,
   "id": "5b2f7275",
   "metadata": {},
   "outputs": [],
   "source": [
    "import tensorflow as tf\n",
    "from tensorflow.keras import layers, models\n",
    "\n",
    "def build_mms_cnn(input_shape=(32, 16, 32, 1), num_classes=4):\n",
    "    \"\"\"\n",
    "    3D CNN for MMS ion distribution classification.\n",
    "    \n",
    "    input_shape : tuple\n",
    "        Shape of the input sample (32 energy, 16 theta, 32 phi, 1 channel).\n",
    "    num_classes : int\n",
    "        Number of output classes (default = 4: SW, IF, MSH, MSP).\n",
    "    \n",
    "    Returns:\n",
    "        A compiled Keras model.\n",
    "    \"\"\"\n",
    "    model = models.Sequential([\n",
    "        # First 3D convolution\n",
    "        layers.Conv3D(\n",
    "            filters=32, kernel_size=(5, 3, 5), strides=(2, 1, 2),\n",
    "            activation='relu', padding='valid',\n",
    "            input_shape=input_shape\n",
    "        ),\n",
    "        \n",
    "        # Second 3D convolution\n",
    "        layers.Conv3D(\n",
    "            filters=32, kernel_size=(3, 3, 3), strides=(1, 1, 1),\n",
    "            activation='relu', padding='valid'\n",
    "        ),\n",
    "        \n",
    "        # Max pooling\n",
    "        layers.MaxPooling3D(pool_size=(2, 2, 2)),\n",
    "        \n",
    "        # Flatten for dense layers\n",
    "        layers.Flatten(),\n",
    "        \n",
    "        # Dense hidden layer\n",
    "        layers.Dense(128, activation='relu'),\n",
    "        \n",
    "        # Output layer\n",
    "        layers.Dense(num_classes, activation='softmax')\n",
    "    ])\n",
    "\n",
    "    model.compile(\n",
    "        optimizer=tf.keras.optimizers.Adam(learning_rate=1e-3),\n",
    "        loss='categorical_crossentropy',\n",
    "        metrics=['accuracy']\n",
    "    )\n",
    "    return model\n"
   ]
  },
  {
   "cell_type": "code",
   "execution_count": 8,
   "id": "7eeb4896",
   "metadata": {},
   "outputs": [
    {
     "name": "stdout",
     "output_type": "stream",
     "text": [
      "Epoch 1/30\n"
     ]
    },
    {
     "name": "stderr",
     "output_type": "stream",
     "text": [
      "d:\\anaconda\\Lib\\site-packages\\keras\\src\\layers\\convolutional\\base_conv.py:113: UserWarning: Do not pass an `input_shape`/`input_dim` argument to a layer. When using Sequential models, prefer using an `Input(shape)` object as the first layer in the model instead.\n",
      "  super().__init__(activity_regularizer=activity_regularizer, **kwargs)\n"
     ]
    },
    {
     "name": "stdout",
     "output_type": "stream",
     "text": [
      "\u001b[1m7/7\u001b[0m \u001b[32m━━━━━━━━━━━━━━━━━━━━\u001b[0m\u001b[37m\u001b[0m \u001b[1m2s\u001b[0m 79ms/step - accuracy: 0.6055 - loss: 0.7968 - val_accuracy: 0.7624 - val_loss: 0.5035\n",
      "Epoch 2/30\n",
      "\u001b[1m7/7\u001b[0m \u001b[32m━━━━━━━━━━━━━━━━━━━━\u001b[0m\u001b[37m\u001b[0m \u001b[1m0s\u001b[0m 47ms/step - accuracy: 0.8015 - loss: 0.4348 - val_accuracy: 0.7129 - val_loss: 0.4578\n",
      "Epoch 3/30\n",
      "\u001b[1m7/7\u001b[0m \u001b[32m━━━━━━━━━━━━━━━━━━━━\u001b[0m\u001b[37m\u001b[0m \u001b[1m0s\u001b[0m 48ms/step - accuracy: 0.8561 - loss: 0.3043 - val_accuracy: 0.8911 - val_loss: 0.2656\n",
      "Epoch 4/30\n",
      "\u001b[1m7/7\u001b[0m \u001b[32m━━━━━━━━━━━━━━━━━━━━\u001b[0m\u001b[37m\u001b[0m \u001b[1m0s\u001b[0m 51ms/step - accuracy: 0.9454 - loss: 0.1650 - val_accuracy: 0.9208 - val_loss: 0.1816\n",
      "Epoch 5/30\n",
      "\u001b[1m7/7\u001b[0m \u001b[32m━━━━━━━━━━━━━━━━━━━━\u001b[0m\u001b[37m\u001b[0m \u001b[1m0s\u001b[0m 49ms/step - accuracy: 0.9578 - loss: 0.1104 - val_accuracy: 0.9604 - val_loss: 0.1001\n",
      "Epoch 6/30\n",
      "\u001b[1m7/7\u001b[0m \u001b[32m━━━━━━━━━━━━━━━━━━━━\u001b[0m\u001b[37m\u001b[0m \u001b[1m0s\u001b[0m 48ms/step - accuracy: 0.9851 - loss: 0.0561 - val_accuracy: 0.9703 - val_loss: 0.0799\n",
      "Epoch 7/30\n",
      "\u001b[1m7/7\u001b[0m \u001b[32m━━━━━━━━━━━━━━━━━━━━\u001b[0m\u001b[37m\u001b[0m \u001b[1m0s\u001b[0m 50ms/step - accuracy: 0.9901 - loss: 0.0393 - val_accuracy: 0.9703 - val_loss: 0.0656\n",
      "Epoch 8/30\n",
      "\u001b[1m7/7\u001b[0m \u001b[32m━━━━━━━━━━━━━━━━━━━━\u001b[0m\u001b[37m\u001b[0m \u001b[1m0s\u001b[0m 47ms/step - accuracy: 0.9950 - loss: 0.0256 - val_accuracy: 0.9703 - val_loss: 0.0733\n",
      "Epoch 9/30\n",
      "\u001b[1m7/7\u001b[0m \u001b[32m━━━━━━━━━━━━━━━━━━━━\u001b[0m\u001b[37m\u001b[0m \u001b[1m0s\u001b[0m 46ms/step - accuracy: 0.9975 - loss: 0.0206 - val_accuracy: 0.9802 - val_loss: 0.0701\n",
      "Epoch 10/30\n",
      "\u001b[1m7/7\u001b[0m \u001b[32m━━━━━━━━━━━━━━━━━━━━\u001b[0m\u001b[37m\u001b[0m \u001b[1m0s\u001b[0m 48ms/step - accuracy: 0.9975 - loss: 0.0134 - val_accuracy: 0.9604 - val_loss: 0.1034\n",
      "Epoch 11/30\n",
      "\u001b[1m7/7\u001b[0m \u001b[32m━━━━━━━━━━━━━━━━━━━━\u001b[0m\u001b[37m\u001b[0m \u001b[1m0s\u001b[0m 46ms/step - accuracy: 0.9950 - loss: 0.0168 - val_accuracy: 0.9505 - val_loss: 0.1234\n",
      "Epoch 12/30\n",
      "\u001b[1m7/7\u001b[0m \u001b[32m━━━━━━━━━━━━━━━━━━━━\u001b[0m\u001b[37m\u001b[0m \u001b[1m0s\u001b[0m 46ms/step - accuracy: 0.9901 - loss: 0.0353 - val_accuracy: 0.9703 - val_loss: 0.1033\n",
      "Epoch 13/30\n",
      "\u001b[1m7/7\u001b[0m \u001b[32m━━━━━━━━━━━━━━━━━━━━\u001b[0m\u001b[37m\u001b[0m \u001b[1m0s\u001b[0m 47ms/step - accuracy: 0.9901 - loss: 0.0203 - val_accuracy: 0.9901 - val_loss: 0.0677\n",
      "Epoch 14/30\n",
      "\u001b[1m7/7\u001b[0m \u001b[32m━━━━━━━━━━━━━━━━━━━━\u001b[0m\u001b[37m\u001b[0m \u001b[1m0s\u001b[0m 49ms/step - accuracy: 0.9975 - loss: 0.0062 - val_accuracy: 0.9802 - val_loss: 0.0629\n",
      "Epoch 15/30\n",
      "\u001b[1m7/7\u001b[0m \u001b[32m━━━━━━━━━━━━━━━━━━━━\u001b[0m\u001b[37m\u001b[0m \u001b[1m0s\u001b[0m 47ms/step - accuracy: 0.9975 - loss: 0.0100 - val_accuracy: 0.9802 - val_loss: 0.0624\n",
      "Epoch 16/30\n",
      "\u001b[1m7/7\u001b[0m \u001b[32m━━━━━━━━━━━━━━━━━━━━\u001b[0m\u001b[37m\u001b[0m \u001b[1m0s\u001b[0m 47ms/step - accuracy: 0.9950 - loss: 0.0130 - val_accuracy: 0.9505 - val_loss: 0.0920\n",
      "Epoch 17/30\n",
      "\u001b[1m7/7\u001b[0m \u001b[32m━━━━━━━━━━━━━━━━━━━━\u001b[0m\u001b[37m\u001b[0m \u001b[1m0s\u001b[0m 47ms/step - accuracy: 0.9950 - loss: 0.0127 - val_accuracy: 0.9802 - val_loss: 0.0652\n",
      "Epoch 18/30\n",
      "\u001b[1m7/7\u001b[0m \u001b[32m━━━━━━━━━━━━━━━━━━━━\u001b[0m\u001b[37m\u001b[0m \u001b[1m0s\u001b[0m 47ms/step - accuracy: 1.0000 - loss: 0.0055 - val_accuracy: 0.9802 - val_loss: 0.0673\n",
      "Epoch 19/30\n",
      "\u001b[1m7/7\u001b[0m \u001b[32m━━━━━━━━━━━━━━━━━━━━\u001b[0m\u001b[37m\u001b[0m \u001b[1m0s\u001b[0m 48ms/step - accuracy: 1.0000 - loss: 0.0044 - val_accuracy: 0.9604 - val_loss: 0.1060\n",
      "Epoch 20/30\n",
      "\u001b[1m7/7\u001b[0m \u001b[32m━━━━━━━━━━━━━━━━━━━━\u001b[0m\u001b[37m\u001b[0m \u001b[1m0s\u001b[0m 51ms/step - accuracy: 1.0000 - loss: 0.0019 - val_accuracy: 0.9802 - val_loss: 0.0767\n",
      "Epoch 21/30\n",
      "\u001b[1m7/7\u001b[0m \u001b[32m━━━━━━━━━━━━━━━━━━━━\u001b[0m\u001b[37m\u001b[0m \u001b[1m0s\u001b[0m 49ms/step - accuracy: 1.0000 - loss: 0.0017 - val_accuracy: 0.9802 - val_loss: 0.0766\n",
      "Epoch 22/30\n",
      "\u001b[1m7/7\u001b[0m \u001b[32m━━━━━━━━━━━━━━━━━━━━\u001b[0m\u001b[37m\u001b[0m \u001b[1m0s\u001b[0m 51ms/step - accuracy: 1.0000 - loss: 5.6201e-04 - val_accuracy: 0.9703 - val_loss: 0.0840\n",
      "Epoch 23/30\n",
      "\u001b[1m7/7\u001b[0m \u001b[32m━━━━━━━━━━━━━━━━━━━━\u001b[0m\u001b[37m\u001b[0m \u001b[1m0s\u001b[0m 51ms/step - accuracy: 1.0000 - loss: 4.9954e-04 - val_accuracy: 0.9703 - val_loss: 0.0905\n",
      "Epoch 24/30\n",
      "\u001b[1m7/7\u001b[0m \u001b[32m━━━━━━━━━━━━━━━━━━━━\u001b[0m\u001b[37m\u001b[0m \u001b[1m0s\u001b[0m 48ms/step - accuracy: 1.0000 - loss: 4.3969e-04 - val_accuracy: 0.9703 - val_loss: 0.0871\n",
      "Epoch 25/30\n",
      "\u001b[1m7/7\u001b[0m \u001b[32m━━━━━━━━━━━━━━━━━━━━\u001b[0m\u001b[37m\u001b[0m \u001b[1m0s\u001b[0m 50ms/step - accuracy: 1.0000 - loss: 3.2684e-04 - val_accuracy: 0.9703 - val_loss: 0.0843\n",
      "Epoch 26/30\n",
      "\u001b[1m7/7\u001b[0m \u001b[32m━━━━━━━━━━━━━━━━━━━━\u001b[0m\u001b[37m\u001b[0m \u001b[1m0s\u001b[0m 49ms/step - accuracy: 1.0000 - loss: 3.1721e-04 - val_accuracy: 0.9703 - val_loss: 0.0842\n",
      "Epoch 27/30\n",
      "\u001b[1m7/7\u001b[0m \u001b[32m━━━━━━━━━━━━━━━━━━━━\u001b[0m\u001b[37m\u001b[0m \u001b[1m0s\u001b[0m 56ms/step - accuracy: 1.0000 - loss: 3.0998e-04 - val_accuracy: 0.9703 - val_loss: 0.0864\n",
      "Epoch 28/30\n",
      "\u001b[1m7/7\u001b[0m \u001b[32m━━━━━━━━━━━━━━━━━━━━\u001b[0m\u001b[37m\u001b[0m \u001b[1m0s\u001b[0m 50ms/step - accuracy: 1.0000 - loss: 2.7540e-04 - val_accuracy: 0.9703 - val_loss: 0.0875\n",
      "Epoch 29/30\n",
      "\u001b[1m7/7\u001b[0m \u001b[32m━━━━━━━━━━━━━━━━━━━━\u001b[0m\u001b[37m\u001b[0m \u001b[1m0s\u001b[0m 53ms/step - accuracy: 1.0000 - loss: 2.6419e-04 - val_accuracy: 0.9703 - val_loss: 0.0880\n",
      "Epoch 30/30\n",
      "\u001b[1m7/7\u001b[0m \u001b[32m━━━━━━━━━━━━━━━━━━━━\u001b[0m\u001b[37m\u001b[0m \u001b[1m0s\u001b[0m 51ms/step - accuracy: 1.0000 - loss: 2.5428e-04 - val_accuracy: 0.9703 - val_loss: 0.0882\n",
      "\u001b[1m4/4\u001b[0m \u001b[32m━━━━━━━━━━━━━━━━━━━━\u001b[0m\u001b[37m\u001b[0m \u001b[1m0s\u001b[0m 16ms/step - accuracy: 0.9764 - loss: 0.0429\n",
      "Test accuracy: 0.9763779640197754\n"
     ]
    }
   ],
   "source": [
    "from sklearn.model_selection import train_test_split\n",
    "\n",
    "# Suppose X, y_raw, y_cat are already defined\n",
    "X_train, X_test, y_train, y_test = train_test_split(\n",
    "    X, y_raw, test_size=0.2, random_state=42, stratify=y_raw\n",
    ")\n",
    "\n",
    "# One-hot encode test labels\n",
    "from tensorflow.keras.utils import to_categorical\n",
    "y_train_cat = to_categorical(y_train, num_classes=4)\n",
    "y_test_cat  = to_categorical(y_test,  num_classes=4)\n",
    "\n",
    "# Train on train set\n",
    "model = build_mms_cnn(input_shape=(32,16,32,1), num_classes=4)\n",
    "model.fit(X_train, y_train_cat, epochs=30, batch_size=64, validation_split=0.2)\n",
    "\n",
    "# Evaluate on held-out test set\n",
    "test_loss, test_acc = model.evaluate(X_test, y_test_cat)\n",
    "print(\"Test accuracy:\", test_acc)\n"
   ]
  },
  {
   "cell_type": "markdown",
   "id": "131dfffb",
   "metadata": {},
   "source": [
    "Use a Different Day as Test Set"
   ]
  }
 ],
 "metadata": {
  "kernelspec": {
   "display_name": "base",
   "language": "python",
   "name": "python3"
  },
  "language_info": {
   "codemirror_mode": {
    "name": "ipython",
    "version": 3
   },
   "file_extension": ".py",
   "mimetype": "text/x-python",
   "name": "python",
   "nbconvert_exporter": "python",
   "pygments_lexer": "ipython3",
   "version": "3.13.5"
  }
 },
 "nbformat": 4,
 "nbformat_minor": 5
}
